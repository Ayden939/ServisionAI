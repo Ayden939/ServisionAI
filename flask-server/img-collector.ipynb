{
 "cells": [
  {
   "cell_type": "code",
   "execution_count": 5,
   "metadata": {},
   "outputs": [
    {
     "name": "stdout",
     "output_type": "stream",
     "text": [
      "Press SPACE to capture\n",
      "Press ESC to quit.\n"
     ]
    }
   ],
   "source": [
    "import cv2\n",
    "import os\n",
    "\n",
    "# url = \"http://10.95.162.92:8080/video\"\n",
    "url = \"http://10.95.109.185:8080/video\"  \n",
    "#url=\"http://192.168.1.131:8080/video\"  \n",
    "classname = \"test\"\n",
    "\n",
    "os.makedirs(f'imgs/{classname}', exist_ok=True)\n",
    "\n",
    "cap = cv2.VideoCapture(url)\n",
    "\n",
    "count = len(os.listdir(f\"imgs/{classname}\"))\n",
    "\n",
    "print(\"Press SPACE to capture\\nPress ESC to quit.\")\n",
    "\n",
    "while True:\n",
    "    ret, img = cap.read()\n",
    "    \n",
    "    if not ret:\n",
    "        print(\"Error: No video frame received. Check connection.\")\n",
    "        break\n",
    "\n",
    "    img = cv2.resize(img, (640, 480))\n",
    "    cv2.imshow(\"Feed\", img)\n",
    "\n",
    "    key = cv2.waitKey(1)\n",
    "\n",
    "\n",
    "    if key == 27:  # Escape \n",
    "        break\n",
    "\n",
    "    if key == 32:  # Space \n",
    "        filename = os.path.join(f'imgs/{classname}', f\"{classname}_{count}.jpg\")\n",
    "        cv2.imwrite(filename, img)\n",
    "        count += 1\n",
    "\n",
    "cap.release()\n",
    "cv2.destroyAllWindows()\n"
   ]
  },
  {
   "cell_type": "code",
   "execution_count": 12,
   "metadata": {},
   "outputs": [
    {
     "name": "stdout",
     "output_type": "stream",
     "text": [
      "Renaming complete.\n"
     ]
    }
   ],
   "source": [
    "import os\n",
    "\n",
    "folder = \"imgs/emptyBowl\"  # Folder containing images to rename\n",
    "classname = \"emptyBowl\"  # Target name for renaming\n",
    "start_index = 0  # Starting number for the renaming\n",
    "\n",
    "# Get all files in the folder and sort them\n",
    "files = os.listdir(folder)\n",
    "files.sort()  # Sort to keep files in order\n",
    "\n",
    "# Rename each file\n",
    "for i, filename in enumerate(files, start=start_index):\n",
    "    ext = os.path.splitext(filename)[1]  # Get file extension\n",
    "    new_name = f\"{classname}{i}{ext}\"  # New filename pattern\n",
    "    old_path = os.path.join(folder, filename)\n",
    "    new_path = os.path.join(folder, new_name)\n",
    "    os.rename(old_path, new_path)\n",
    "\n",
    "print(\"Renaming complete.\")\n"
   ]
  }
 ],
 "metadata": {
  "kernelspec": {
   "display_name": "base",
   "language": "python",
   "name": "python3"
  },
  "language_info": {
   "codemirror_mode": {
    "name": "ipython",
    "version": 3
   },
   "file_extension": ".py",
   "mimetype": "text/x-python",
   "name": "python",
   "nbconvert_exporter": "python",
   "pygments_lexer": "ipython3",
   "version": "3.12.7"
  }
 },
 "nbformat": 4,
 "nbformat_minor": 2
}
